{
 "cells": [
  {
   "cell_type": "markdown",
   "metadata": {},
   "source": [
    "# Probability"
   ]
  },
  {
   "cell_type": "markdown",
   "metadata": {},
   "source": [
    "## Reto 1\n",
    "Hay una caja con 10 bolas blancas, 12 bolas rojas y 8 bolas negras. Calcula la probabilidad de:\n",
    "* Sacar una bola blanca.\n",
    "* Sacar una bola blanca en la primera extracción y una bola negra en la segunda extracción sin reemplazar la primera.\n",
    "* Sacar una bola blanca en la primera extracción y una bola negra en la segunda extracción reemplazando la primera.\n",
    "* Sacar 3 bolas y que sean todas de diferentes colores."
   ]
  },
  {
   "cell_type": "code",
   "execution_count": 38,
   "metadata": {},
   "outputs": [
    {
     "name": "stdout",
     "output_type": "stream",
     "text": [
      "Probabilidad de sacar una bola blanca 33.33333333333333%\n",
      "Probabilidad de sacar una bola blanca y luego una negra 9.195402298850574%\n",
      "Probabilidad de sacar una bola blanca y luego una negra reemplazando 8.888888888888888%\n",
      "Probabilidad de sacar 3 bolas de distinto color reemplazando 3.5555555555555554%\n",
      "Probabilidad de sacar 3 bolas de distinto color sin reemplazo 3.9408866995073892%\n"
     ]
    }
   ],
   "source": [
    "# Definir el número de bolas de cada color\n",
    "blancas = 10\n",
    "rojas = 12\n",
    "negras = 8\n",
    "bolas_totales = blancas + rojas + negras  # Suma de todas las bolas\n",
    "\n",
    "# Sacar una bola blanca\n",
    "prob_blanca = blancas / bolas_totales\n",
    "prob_blanca\n",
    "\n",
    "print(f\"Probabilidad de sacar una bola blanca {prob_blanca*100}%\")\n",
    "\n",
    "# Sacar una bola blanca en la primera extracción y una bola negra en la segunda extracción sin reemplazar la primera\n",
    "'''\n",
    "Eventos no independientes: \n",
    "P(A∩B) = P(B|A) * P(A)\n",
    "'''\n",
    "prob_dep_negra = negras / (bolas_totales - 1)\n",
    "\n",
    "prob_blanca_negra = prob_dep_negra * prob_blanca\n",
    "\n",
    "print(f\"Probabilidad de sacar una bola blanca y luego una negra {prob_blanca_negra*100}%\")\n",
    "\n",
    "# Sacar una bola blanca en la primera extracción y una bola negra en la segunda extracción reemplazando la primera.\n",
    "'''\n",
    "Eventos independientes: \n",
    "P(A∩B) = P(A) * P(B)\n",
    "'''\n",
    "prob_negra = negras / bolas_totales\n",
    "prob_ind_blanca_negra = prob_blanca * prob_negra\n",
    "\n",
    "print(f\"Probabilidad de sacar una bola blanca y luego una negra reemplazando {prob_ind_blanca_negra*100}%\")\n",
    "\n",
    "# Sacar 3 bolas y que sean todas de diferentes colores.\n",
    "'''\n",
    "Eventos independientes: \n",
    "P(A∩B) = P(A) * P(B)\n",
    "'''\n",
    "\n",
    "prob_roja = rojas / bolas_totales\n",
    "prob_ind_distintas = prob_blanca * prob_negra * prob_roja\n",
    "\n",
    "print(f\"Probabilidad de sacar 3 bolas de distinto color reemplazando {prob_ind_distintas*100}%\")\n",
    "\n",
    "'''\n",
    "Eventos no independientes: \n",
    "P(A∩B) = P(B|A) * P(A)\n",
    "'''\n",
    "prob_dep_roja = rojas / (bolas_totales - 2)\n",
    "prob_dep_distintas = prob_blanca * prob_dep_negra * prob_dep_roja\n",
    "\n",
    "print(f\"Probabilidad de sacar 3 bolas de distinto color sin reemplazo {prob_dep_distintas*100}%\")"
   ]
  },
  {
   "cell_type": "markdown",
   "metadata": {},
   "source": [
    "## Reto 2\n",
    "\n",
    "Quieres ir de picnic el sábado. Odias la lluvia y quieres planificar tu fin de semana. Para ayudarte a tomar una decisión, recopilas los siguientes datos sobre los días lluviosos:\n",
    "\n",
    "* El 40% de todos los días están nublados.\n",
    "* Aproximadamente el 50% de los días nublados son lluviosos.\n",
    "* Aproximadamente el 20% de los días no nublados son lluviosos.\n",
    "\n",
    "¿Cuál es la probabilidad de que llueva el próximo sábado?"
   ]
  },
  {
   "cell_type": "code",
   "execution_count": 44,
   "metadata": {},
   "outputs": [
    {
     "name": "stdout",
     "output_type": "stream",
     "text": [
      "Probabilidad de que llueve el sabado 32.0%\n"
     ]
    }
   ],
   "source": [
    "prob_nublado = 0.4\n",
    "prob_lluvia_nublado = 0.5\n",
    "prob_lluvia_nonub = 0.2\n",
    "\n",
    "prob_lluvia = prob_nublado * prob_lluvia_nublado + prob_lluvia_nonub * (1-prob_nublado)\n",
    "print(f\"Probabilidad de que llueve el sabado {prob_lluvia*100}%\")"
   ]
  },
  {
   "cell_type": "markdown",
   "metadata": {},
   "source": [
    "## Reto 3\n",
    "\n",
    "A y B son eventos de una probabilidad tal que \\(P(A) = 0.3\\), \\(P(B) = 0.6\\) y \\(P(A \\cap B) = 0.1\\)\n",
    "\n",
    "¿Cuáles de las siguientes afirmaciones son verdaderas?\n",
    "**SUGERENCIA: dibuja un gran diagrama de Venn a tu lado**\n",
    "* \\(P(\\overline{A}) = 0.7\\)\n",
    "* \\(P(A \\cup B) = 0.6\\)\n",
    "* \\(P(A \\cap \\overline{B}) = 0.2\\)\n",
    "* \\(P(A \\cup \\overline{A}) = 1\\)  \n",
    "* \\(P(A \\cap (B \\cup \\overline{B})) = 0.4\\)\n",
    "* \\(P(\\overline{A} \\cap \\overline{B}) = 0.3\\)\n",
    "* \\(P(\\overline{A \\cap B}) = 0.9\\)"
   ]
  },
  {
   "cell_type": "code",
   "execution_count": 104,
   "metadata": {},
   "outputs": [
    {
     "name": "stdout",
     "output_type": "stream",
     "text": [
      "True\n",
      "False\n",
      "False\n",
      "True\n",
      "False\n",
      "False\n",
      "True\n"
     ]
    }
   ],
   "source": [
    "prob_a = 0.3 \n",
    "prob_b = 0.6\n",
    "prob_acapb = 0.1\n",
    "\n",
    "#(P(\\overline{A}) = 0.7)\n",
    "prob_overline_a = 1 - prob_a\n",
    "print(prob_overline_a == 0.7)\n",
    "\n",
    "#(P(A \\cup B) = 0.6)\n",
    "prob_acupb = prob_a + prob_b - prob_acapb\n",
    "print(prob_acupb == 0.6)\n",
    "\n",
    "#(P(A \\cap \\overline{B}) = 0.2)\n",
    "prob_acapoverlineb = prob_a - prob_acapb\n",
    "print(prob_acapoverlineb == 0.2)\n",
    "\n",
    "#P(A \\cup \\overline{A}) = 1)\n",
    "prob_acupoverlinea = prob_a + (1-prob_a)\n",
    "print(prob_acupoverlinea == 1)\n",
    "\n",
    "#(P(A \\cap (B \\cup \\overline{B})) = 0.4)\n",
    "prob_acapbcupoverlineb = prob_a * (prob_b + (1-prob_b))\n",
    "print(prob_acapbcupoverlineb == 0.4)  \n",
    "\n",
    "#(P(\\overline{A} \\cap \\overline{B}) = 0.3)\n",
    "prob_overlineacapoverlineb = (1-prob_a) * (1-prob_b)\n",
    "print(prob_overlineacapoverlineb == 0.3)\n",
    "\n",
    "#(P(\\overline{A \\cap B}) = 0.9)\n",
    "prob_overlineacapb = 1 - prob_acapb\n",
    "print(prob_overlineacapb == 0.9)"
   ]
  },
  {
   "cell_type": "markdown",
   "metadata": {},
   "source": [
    "## Reto 4\n",
    "\n",
    "* Si alguien viaja a China, la probabilidad de contraer Covid es del 1%\n",
    "* Si alguien viaja a Italia, la probabilidad de contraer Covid es del 20%\n",
    "\n",
    "Lanzo un dado con números 1, 2, 3, 4, 5, 6:\n",
    "* Si sale 1: Vuelo a Italia\n",
    "* Si no sale 1: Vuelo a China\n",
    "\n",
    "Durante mi viaje, contraje Covid. ¿Cuál es la probabilidad de que haya volado a China?"
   ]
  },
  {
   "cell_type": "code",
   "execution_count": 108,
   "metadata": {},
   "outputs": [
    {
     "name": "stdout",
     "output_type": "stream",
     "text": [
      "Probabilidad de haber volado en China 20.0%\n"
     ]
    }
   ],
   "source": [
    "#Probabilidad contraer covid en china\n",
    "prob_covid_ch = 0.01\n",
    "\n",
    "#Probabilidad contraer covid en italia\n",
    "prob_covid_it = 0.2\n",
    "\n",
    "#Probabilidad viajar a italia\n",
    "prob_it = 1/6\n",
    "\n",
    "#Probabilidad viajar a china\n",
    "prob_ch = 5/6\n",
    "\n",
    "# Probabilidad viaje a china si contraje covid\n",
    "\n",
    "prob_ch_covid = prob_ch * prob_covid_ch\n",
    "prob_covid = (prob_covid_ch * prob_ch) + (prob_covid_it * prob_it)\n",
    "\n",
    "prob_ch_cond_covid = prob_ch_covid / prob_covid\n",
    "\n",
    "print(f\"Probabilidad de haber volado en China {prob_ch_cond_covid*100}%\")"
   ]
  },
  {
   "cell_type": "markdown",
   "metadata": {},
   "source": [
    "## BONUS\n",
    "\n",
    "Lanzas 2 dados. ¿Cuál es la probabilidad de que la suma de los números sea 7? ¿Y 8? ¿Y 9? Luego simula 10000 veces y dibuja un gráfico de conteo.\n",
    "\n",
    "tu explicación aquí"
   ]
  },
  {
   "cell_type": "code",
   "execution_count": 130,
   "metadata": {},
   "outputs": [
    {
     "name": "stdout",
     "output_type": "stream",
     "text": [
      "{2: 0.0307, 3: 0.0556, 4: 0.0839, 5: 0.1051, 6: 0.1365, 7: 0.1682, 8: 0.1415, 9: 0.1159, 10: 0.0815, 11: 0.0519, 12: 0.0292}\n"
     ]
    },
    {
     "data": {
      "text/plain": [
       "<BarContainer object of 11 artists>"
      ]
     },
     "execution_count": 130,
     "metadata": {},
     "output_type": "execute_result"
    },
    {
     "data": {
      "image/png": "[encoded data removed]",
      "text/plain": [
       "<Figure size 640x480 with 1 Axes>"
      ]
     },
     "metadata": {},
     "output_type": "display_data"
    }
   ],
   "source": [
    "import random\n",
    "\n",
    "# Funcion lanzamiento de un dado \n",
    "def lanzar_dado():\n",
    "    return random.randint(1,6)\n",
    "    \n",
    "# Diccionario de resultados   \n",
    "suma = {resultado : 0 for resultado in range(2,13)}\n",
    "num_lanzamientos = 10000\n",
    "\n",
    "# Simulacion 10.000 lanzamientos de 2 dados\n",
    "for _ in range(num_lanzamientos):\n",
    "    dado1 = lanzar_dado() #resultado dado 1\n",
    "    dado2 = lanzar_dado() #resultado dado 2\n",
    "    suma_dados = dado1 + dado2 #lanzamiento de dos dados\n",
    "    suma[suma_dados] += 1 #contador de veces que sale cada suma \n",
    "\n",
    "# normalizar - convertir a porcentajes\n",
    "for resultado in range (2,13):\n",
    "    suma[resultado] /= num_lanzamientos\n",
    "\n",
    "print(suma)\n",
    "\n",
    "\n",
    "# Grafico de conteo\n",
    "\n",
    "import matplotlib.pyplot as plt\n",
    "plt.bar(x=suma.keys(), height = suma.values())\n",
    "\n"
   ]
  }
 ],
 "metadata": {
  "kernelspec": {
   "display_name": "Python 3 (ipykernel)",
   "language": "python",
   "name": "python3"
  },
  "language_info": {
   "codemirror_mode": {
    "name": "ipython",
    "version": 3
   },
   "file_extension": ".py",
   "mimetype": "text/x-python",
   "name": "python",
   "nbconvert_exporter": "python",
   "pygments_lexer": "ipython3",
   "version": "3.12.4"
  },
  "toc": {
   "base_numbering": 1,
   "nav_menu": {},
   "number_sections": false,
   "sideBar": true,
   "skip_h1_title": false,
   "title_cell": "Table of Contents",
   "title_sidebar": "Contents",
   "toc_cell": false,
   "toc_position": {
    "height": "calc(100% - 180px)",
    "left": "10px",
    "top": "150px",
    "width": "296.475px"
   },
   "toc_section_display": true,
   "toc_window_display": false
  },
  "varInspector": {
   "cols": {
    "lenName": 16,
    "lenType": 16,
    "lenVar": 40
   },
   "kernels_config": {
    "python": {
     "delete_cmd_postfix": "",
     "delete_cmd_prefix": "del ",
     "library": "var_list.py",
     "varRefreshCmd": "print(var_dic_list())"
    },
    "r": {
     "delete_cmd_postfix": ") ",
     "delete_cmd_prefix": "rm(",
     "library": "var_list.r",
     "varRefreshCmd": "cat(var_dic_list()) "
    }
   },
   "types_to_exclude": [
    "module",
    "function",
    "builtin_function_or_method",
    "instance",
    "_Feature"
   ],
   "window_display": false
  }
 },
 "nbformat": 4,
 "nbformat_minor": 4
}
